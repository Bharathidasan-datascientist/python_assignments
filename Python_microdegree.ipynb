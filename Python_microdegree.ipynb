{
 "cells": [
  {
   "cell_type": "code",
   "execution_count": 1,
   "id": "ceb80e2d",
   "metadata": {},
   "outputs": [],
   "source": [
    "import datetime"
   ]
  },
  {
   "cell_type": "code",
   "execution_count": 6,
   "id": "0725134a",
   "metadata": {},
   "outputs": [
    {
     "name": "stdout",
     "output_type": "stream",
     "text": [
      "the current date and time is: 2021-12-10 17:53:35.301120\n"
     ]
    }
   ],
   "source": [
    "print(\"the current date and time is:\",datetime.datetime.now())"
   ]
  },
  {
   "cell_type": "code",
   "execution_count": 3,
   "id": "27bdfbbf",
   "metadata": {},
   "outputs": [],
   "source": [
    "import datetime"
   ]
  },
  {
   "cell_type": "code",
   "execution_count": 4,
   "id": "b4544818",
   "metadata": {},
   "outputs": [
    {
     "data": {
      "text/plain": [
       "datetime.datetime(2021, 12, 10, 17, 45, 18, 695165)"
      ]
     },
     "execution_count": 4,
     "metadata": {},
     "output_type": "execute_result"
    }
   ],
   "source": [
    "datetime.datetime.now()"
   ]
  },
  {
   "cell_type": "code",
   "execution_count": 7,
   "id": "e3b65646",
   "metadata": {},
   "outputs": [],
   "source": [
    "import datetime"
   ]
  },
  {
   "cell_type": "code",
   "execution_count": 14,
   "id": "f3f0ff74",
   "metadata": {},
   "outputs": [],
   "source": [
    "current_date=datetime.datetime.now()"
   ]
  },
  {
   "cell_type": "code",
   "execution_count": 15,
   "id": "64903ed6",
   "metadata": {},
   "outputs": [
    {
     "name": "stdout",
     "output_type": "stream",
     "text": [
      "the date and time is : 2021-12-10 17:56:55.836955\n"
     ]
    }
   ],
   "source": [
    "print(\"the date and time is :\" ,current_date)"
   ]
  },
  {
   "cell_type": "code",
   "execution_count": 16,
   "id": "34a13ea2",
   "metadata": {},
   "outputs": [],
   "source": [
    "# importants of List"
   ]
  },
  {
   "cell_type": "code",
   "execution_count": 17,
   "id": "011a3d7c",
   "metadata": {},
   "outputs": [],
   "source": [
    "grades=[80,50,70,89,60,40,45]"
   ]
  },
  {
   "cell_type": "code",
   "execution_count": 18,
   "id": "58e61c7e",
   "metadata": {},
   "outputs": [],
   "source": [
    "#Attributes"
   ]
  },
  {
   "cell_type": "code",
   "execution_count": 23,
   "id": "45747ad4",
   "metadata": {},
   "outputs": [
    {
     "data": {
      "text/plain": [
       "['__add__',\n",
       " '__class__',\n",
       " '__contains__',\n",
       " '__delattr__',\n",
       " '__dir__',\n",
       " '__doc__',\n",
       " '__eq__',\n",
       " '__format__',\n",
       " '__ge__',\n",
       " '__getattribute__',\n",
       " '__getitem__',\n",
       " '__getnewargs__',\n",
       " '__gt__',\n",
       " '__hash__',\n",
       " '__init__',\n",
       " '__init_subclass__',\n",
       " '__iter__',\n",
       " '__le__',\n",
       " '__len__',\n",
       " '__lt__',\n",
       " '__mod__',\n",
       " '__mul__',\n",
       " '__ne__',\n",
       " '__new__',\n",
       " '__reduce__',\n",
       " '__reduce_ex__',\n",
       " '__repr__',\n",
       " '__rmod__',\n",
       " '__rmul__',\n",
       " '__setattr__',\n",
       " '__sizeof__',\n",
       " '__str__',\n",
       " '__subclasshook__',\n",
       " 'capitalize',\n",
       " 'casefold',\n",
       " 'center',\n",
       " 'count',\n",
       " 'encode',\n",
       " 'endswith',\n",
       " 'expandtabs',\n",
       " 'find',\n",
       " 'format',\n",
       " 'format_map',\n",
       " 'index',\n",
       " 'isalnum',\n",
       " 'isalpha',\n",
       " 'isascii',\n",
       " 'isdecimal',\n",
       " 'isdigit',\n",
       " 'isidentifier',\n",
       " 'islower',\n",
       " 'isnumeric',\n",
       " 'isprintable',\n",
       " 'isspace',\n",
       " 'istitle',\n",
       " 'isupper',\n",
       " 'join',\n",
       " 'ljust',\n",
       " 'lower',\n",
       " 'lstrip',\n",
       " 'maketrans',\n",
       " 'partition',\n",
       " 'replace',\n",
       " 'rfind',\n",
       " 'rindex',\n",
       " 'rjust',\n",
       " 'rpartition',\n",
       " 'rsplit',\n",
       " 'rstrip',\n",
       " 'split',\n",
       " 'splitlines',\n",
       " 'startswith',\n",
       " 'strip',\n",
       " 'swapcase',\n",
       " 'title',\n",
       " 'translate',\n",
       " 'upper',\n",
       " 'zfill']"
      ]
     },
     "execution_count": 23,
     "metadata": {},
     "output_type": "execute_result"
    }
   ],
   "source": [
    "dir(str)"
   ]
  },
  {
   "cell_type": "code",
   "execution_count": 24,
   "id": "24cf6b97",
   "metadata": {},
   "outputs": [],
   "source": [
    "a=\"student\""
   ]
  },
  {
   "cell_type": "code",
   "execution_count": 25,
   "id": "c1c0559b",
   "metadata": {},
   "outputs": [
    {
     "data": {
      "text/plain": [
       "'STUDENT'"
      ]
     },
     "execution_count": 25,
     "metadata": {},
     "output_type": "execute_result"
    }
   ],
   "source": [
    "a.upper()"
   ]
  },
  {
   "cell_type": "code",
   "execution_count": 26,
   "id": "14a5dc7a",
   "metadata": {},
   "outputs": [],
   "source": [
    "b='STUDENT'"
   ]
  },
  {
   "cell_type": "code",
   "execution_count": 27,
   "id": "4b205aa6",
   "metadata": {},
   "outputs": [
    {
     "data": {
      "text/plain": [
       "'student'"
      ]
     },
     "execution_count": 27,
     "metadata": {},
     "output_type": "execute_result"
    }
   ],
   "source": [
    "b.lower()"
   ]
  },
  {
   "cell_type": "code",
   "execution_count": 28,
   "id": "6fb982b7",
   "metadata": {},
   "outputs": [],
   "source": [
    "c=\"student\""
   ]
  },
  {
   "cell_type": "code",
   "execution_count": 29,
   "id": "9dfb2504",
   "metadata": {},
   "outputs": [
    {
     "data": {
      "text/plain": [
       "'Student'"
      ]
     },
     "execution_count": 29,
     "metadata": {},
     "output_type": "execute_result"
    }
   ],
   "source": [
    "c.title()"
   ]
  },
  {
   "cell_type": "code",
   "execution_count": 30,
   "id": "219e0088",
   "metadata": {},
   "outputs": [],
   "source": [
    "# importance of Average of a list"
   ]
  },
  {
   "cell_type": "code",
   "execution_count": 31,
   "id": "a8ffedce",
   "metadata": {},
   "outputs": [
    {
     "data": {
      "text/plain": [
       "[80, 50, 70, 89, 60, 40, 45]"
      ]
     },
     "execution_count": 31,
     "metadata": {},
     "output_type": "execute_result"
    }
   ],
   "source": [
    "grades"
   ]
  },
  {
   "cell_type": "code",
   "execution_count": 33,
   "id": "3e5c7ddc",
   "metadata": {},
   "outputs": [
    {
     "data": {
      "text/plain": [
       "['__add__',\n",
       " '__class__',\n",
       " '__contains__',\n",
       " '__delattr__',\n",
       " '__delitem__',\n",
       " '__dir__',\n",
       " '__doc__',\n",
       " '__eq__',\n",
       " '__format__',\n",
       " '__ge__',\n",
       " '__getattribute__',\n",
       " '__getitem__',\n",
       " '__gt__',\n",
       " '__hash__',\n",
       " '__iadd__',\n",
       " '__imul__',\n",
       " '__init__',\n",
       " '__init_subclass__',\n",
       " '__iter__',\n",
       " '__le__',\n",
       " '__len__',\n",
       " '__lt__',\n",
       " '__mul__',\n",
       " '__ne__',\n",
       " '__new__',\n",
       " '__reduce__',\n",
       " '__reduce_ex__',\n",
       " '__repr__',\n",
       " '__reversed__',\n",
       " '__rmul__',\n",
       " '__setattr__',\n",
       " '__setitem__',\n",
       " '__sizeof__',\n",
       " '__str__',\n",
       " '__subclasshook__',\n",
       " 'append',\n",
       " 'clear',\n",
       " 'copy',\n",
       " 'count',\n",
       " 'extend',\n",
       " 'index',\n",
       " 'insert',\n",
       " 'pop',\n",
       " 'remove',\n",
       " 'reverse',\n",
       " 'sort']"
      ]
     },
     "execution_count": 33,
     "metadata": {},
     "output_type": "execute_result"
    }
   ],
   "source": [
    "dir(list)"
   ]
  },
  {
   "cell_type": "raw",
   "id": "f05ef8a6",
   "metadata": {},
   "source": [
    "dir(__builtins__)"
   ]
  },
  {
   "cell_type": "code",
   "execution_count": 37,
   "id": "7af954b3",
   "metadata": {},
   "outputs": [
    {
     "data": {
      "text/plain": [
       "[80, 50, 70, 89, 60, 40, 45]"
      ]
     },
     "execution_count": 37,
     "metadata": {},
     "output_type": "execute_result"
    }
   ],
   "source": [
    "grades"
   ]
  },
  {
   "cell_type": "code",
   "execution_count": 38,
   "id": "01235549",
   "metadata": {},
   "outputs": [
    {
     "name": "stdout",
     "output_type": "stream",
     "text": [
      "Help on built-in function sum in module builtins:\n",
      "\n",
      "sum(iterable, /, start=0)\n",
      "    Return the sum of a 'start' value (default: 0) plus an iterable of numbers\n",
      "    \n",
      "    When the iterable is empty, return the start value.\n",
      "    This function is intended specifically for use with numeric values and may\n",
      "    reject non-numeric types.\n",
      "\n"
     ]
    }
   ],
   "source": [
    "help(sum)"
   ]
  },
  {
   "cell_type": "code",
   "execution_count": 51,
   "id": "355314b3",
   "metadata": {},
   "outputs": [],
   "source": [
    "average=sum(grades)/len(grades)"
   ]
  },
  {
   "cell_type": "code",
   "execution_count": 53,
   "id": "874be8ba",
   "metadata": {},
   "outputs": [
    {
     "name": "stdout",
     "output_type": "stream",
     "text": [
      "62.0\n"
     ]
    }
   ],
   "source": [
    "print(average)"
   ]
  },
  {
   "cell_type": "code",
   "execution_count": 54,
   "id": "f518f8df",
   "metadata": {},
   "outputs": [],
   "source": [
    "##Best way to learn python"
   ]
  },
  {
   "cell_type": "code",
   "execution_count": 55,
   "id": "0d886966",
   "metadata": {},
   "outputs": [],
   "source": [
    "# understand the syntax"
   ]
  },
  {
   "cell_type": "code",
   "execution_count": 56,
   "id": "dcbcac07",
   "metadata": {},
   "outputs": [],
   "source": [
    "#Algorithm"
   ]
  },
  {
   "cell_type": "code",
   "execution_count": 57,
   "id": "67fa8697",
   "metadata": {},
   "outputs": [],
   "source": [
    "# what are Dictionaries"
   ]
  },
  {
   "cell_type": "code",
   "execution_count": 58,
   "id": "0c82dcee",
   "metadata": {},
   "outputs": [],
   "source": [
    "# curly brackets, Has keys and values"
   ]
  },
  {
   "cell_type": "code",
   "execution_count": 59,
   "id": "85e69703",
   "metadata": {},
   "outputs": [],
   "source": [
    "grades={'student a':80,'student b':70}"
   ]
  },
  {
   "cell_type": "code",
   "execution_count": 61,
   "id": "25a7d94f",
   "metadata": {},
   "outputs": [
    {
     "data": {
      "text/plain": [
       "80"
      ]
     },
     "execution_count": 61,
     "metadata": {},
     "output_type": "execute_result"
    }
   ],
   "source": [
    "grades['student a']"
   ]
  },
  {
   "cell_type": "code",
   "execution_count": 62,
   "id": "9d2ad476",
   "metadata": {},
   "outputs": [
    {
     "data": {
      "text/plain": [
       "['__class__',\n",
       " '__contains__',\n",
       " '__delattr__',\n",
       " '__delitem__',\n",
       " '__dir__',\n",
       " '__doc__',\n",
       " '__eq__',\n",
       " '__format__',\n",
       " '__ge__',\n",
       " '__getattribute__',\n",
       " '__getitem__',\n",
       " '__gt__',\n",
       " '__hash__',\n",
       " '__init__',\n",
       " '__init_subclass__',\n",
       " '__iter__',\n",
       " '__le__',\n",
       " '__len__',\n",
       " '__lt__',\n",
       " '__ne__',\n",
       " '__new__',\n",
       " '__reduce__',\n",
       " '__reduce_ex__',\n",
       " '__repr__',\n",
       " '__reversed__',\n",
       " '__setattr__',\n",
       " '__setitem__',\n",
       " '__sizeof__',\n",
       " '__str__',\n",
       " '__subclasshook__',\n",
       " 'clear',\n",
       " 'copy',\n",
       " 'fromkeys',\n",
       " 'get',\n",
       " 'items',\n",
       " 'keys',\n",
       " 'pop',\n",
       " 'popitem',\n",
       " 'setdefault',\n",
       " 'update',\n",
       " 'values']"
      ]
     },
     "execution_count": 62,
     "metadata": {},
     "output_type": "execute_result"
    }
   ],
   "source": [
    "dir(dict)"
   ]
  },
  {
   "cell_type": "code",
   "execution_count": 65,
   "id": "0e98bb3c",
   "metadata": {},
   "outputs": [
    {
     "data": {
      "text/plain": [
       "{'student a': 80, 'student b': 70}"
      ]
     },
     "execution_count": 65,
     "metadata": {},
     "output_type": "execute_result"
    }
   ],
   "source": [
    "grades"
   ]
  },
  {
   "cell_type": "code",
   "execution_count": 68,
   "id": "08c032ec",
   "metadata": {},
   "outputs": [],
   "source": [
    "myaverage=(grades.values())"
   ]
  },
  {
   "cell_type": "code",
   "execution_count": 69,
   "id": "985e7b7c",
   "metadata": {},
   "outputs": [
    {
     "data": {
      "text/plain": [
       "dict_values([80, 70])"
      ]
     },
     "execution_count": 69,
     "metadata": {},
     "output_type": "execute_result"
    }
   ],
   "source": [
    "myaverage"
   ]
  },
  {
   "cell_type": "code",
   "execution_count": 70,
   "id": "609b81df",
   "metadata": {},
   "outputs": [],
   "source": [
    "mylength=len(grades)"
   ]
  },
  {
   "cell_type": "code",
   "execution_count": 71,
   "id": "eb22a4b0",
   "metadata": {},
   "outputs": [
    {
     "data": {
      "text/plain": [
       "2"
      ]
     },
     "execution_count": 71,
     "metadata": {},
     "output_type": "execute_result"
    }
   ],
   "source": [
    "mylength"
   ]
  },
  {
   "cell_type": "code",
   "execution_count": 74,
   "id": "ebd54db3",
   "metadata": {},
   "outputs": [
    {
     "name": "stdout",
     "output_type": "stream",
     "text": [
      "dict_keys(['student a', 'student b'])\n",
      "dict_values([80, 70])\n"
     ]
    }
   ],
   "source": [
    "print(grades.keys())\n",
    "print(grades.values())"
   ]
  },
  {
   "cell_type": "code",
   "execution_count": 75,
   "id": "73f8c23a",
   "metadata": {},
   "outputs": [],
   "source": [
    "# Tuples vs list"
   ]
  },
  {
   "cell_type": "code",
   "execution_count": 76,
   "id": "9532faf2",
   "metadata": {},
   "outputs": [],
   "source": [
    "my_list=[1,2,3,4,5]\n",
    "my_tuple=(1,2,3,4,5)"
   ]
  },
  {
   "cell_type": "code",
   "execution_count": 77,
   "id": "1bc36ac9",
   "metadata": {},
   "outputs": [],
   "source": [
    "my_list.append(6)"
   ]
  },
  {
   "cell_type": "code",
   "execution_count": 78,
   "id": "945bda33",
   "metadata": {},
   "outputs": [
    {
     "data": {
      "text/plain": [
       "[1, 2, 3, 4, 5, 6]"
      ]
     },
     "execution_count": 78,
     "metadata": {},
     "output_type": "execute_result"
    }
   ],
   "source": [
    "my_list"
   ]
  },
  {
   "cell_type": "code",
   "execution_count": 80,
   "id": "8a846b09",
   "metadata": {},
   "outputs": [
    {
     "ename": "AttributeError",
     "evalue": "'tuple' object has no attribute 'append'",
     "output_type": "error",
     "traceback": [
      "\u001b[1;31m---------------------------------------------------------------------------\u001b[0m",
      "\u001b[1;31mAttributeError\u001b[0m                            Traceback (most recent call last)",
      "\u001b[1;32m<ipython-input-80-4a40ddf90b2d>\u001b[0m in \u001b[0;36m<module>\u001b[1;34m\u001b[0m\n\u001b[1;32m----> 1\u001b[1;33m \u001b[0mmy_tuple\u001b[0m\u001b[1;33m.\u001b[0m\u001b[0mappend\u001b[0m\u001b[1;33m(\u001b[0m\u001b[1;36m6\u001b[0m\u001b[1;33m)\u001b[0m\u001b[1;33m\u001b[0m\u001b[1;33m\u001b[0m\u001b[0m\n\u001b[0m",
      "\u001b[1;31mAttributeError\u001b[0m: 'tuple' object has no attribute 'append'"
     ]
    }
   ],
   "source": [
    "my_tuple.append(6)"
   ]
  },
  {
   "cell_type": "code",
   "execution_count": 82,
   "id": "b386b5d5",
   "metadata": {},
   "outputs": [
    {
     "name": "stdout",
     "output_type": "stream",
     "text": [
      "[3, 2, 5, 3, 6]\n"
     ]
    }
   ],
   "source": [
    "list1=[3,2,5,7,3,6]\n",
    "list1.pop(3)\n",
    "print(list1)"
   ]
  },
  {
   "cell_type": "code",
   "execution_count": 101,
   "id": "7b7740db",
   "metadata": {},
   "outputs": [
    {
     "name": "stdout",
     "output_type": "stream",
     "text": [
      "True\n"
     ]
    }
   ],
   "source": [
    "dictionary = {\"geek\":10, \"for\":45, \"geeks\": 90} \n",
    "print('for' in dictionary) "
   ]
  },
  {
   "cell_type": "code",
   "execution_count": 84,
   "id": "951fb196",
   "metadata": {},
   "outputs": [
    {
     "name": "stdout",
     "output_type": "stream",
     "text": [
      "{'a': 1, 'b': [2, 3, 4]}\n"
     ]
    }
   ],
   "source": [
    "a ={} \n",
    "a['a']= 1\n",
    "a['b']=[2, 3, 4] \n",
    "print(a) "
   ]
  },
  {
   "cell_type": "code",
   "execution_count": 95,
   "id": "95ff05d0",
   "metadata": {},
   "outputs": [
    {
     "name": "stdout",
     "output_type": "stream",
     "text": [
      "21\n"
     ]
    }
   ],
   "source": [
    "list1=[1,3,5,2,4,6,2]\n",
    " \n",
    "list1.remove(2)\n",
    "print(sum(list1))"
   ]
  },
  {
   "cell_type": "code",
   "execution_count": 96,
   "id": "5ab8d32d",
   "metadata": {},
   "outputs": [
    {
     "data": {
      "text/plain": [
       "[1, 3, 5, 4, 6, 2]"
      ]
     },
     "execution_count": 96,
     "metadata": {},
     "output_type": "execute_result"
    }
   ],
   "source": [
    "list1"
   ]
  },
  {
   "cell_type": "code",
   "execution_count": 102,
   "id": "9a8b392f",
   "metadata": {},
   "outputs": [
    {
     "name": "stdout",
     "output_type": "stream",
     "text": [
      "{'a': 1, 'b': [2, 3, 4]}\n"
     ]
    }
   ],
   "source": [
    "a ={} \n",
    "a['a']= 1\n",
    "a['b']=[2, 3, 4] \n",
    "print(a) "
   ]
  },
  {
   "cell_type": "code",
   "execution_count": 128,
   "id": "421d6dff",
   "metadata": {},
   "outputs": [],
   "source": [
    "a={}"
   ]
  },
  {
   "cell_type": "code",
   "execution_count": 129,
   "id": "a05c2da6",
   "metadata": {},
   "outputs": [],
   "source": [
    "a['a']=1"
   ]
  },
  {
   "cell_type": "code",
   "execution_count": 130,
   "id": "31b047a6",
   "metadata": {},
   "outputs": [],
   "source": [
    "a['b']=45"
   ]
  },
  {
   "cell_type": "code",
   "execution_count": 131,
   "id": "a79276b1",
   "metadata": {},
   "outputs": [],
   "source": [
    "a['c']=34"
   ]
  },
  {
   "cell_type": "code",
   "execution_count": 132,
   "id": "2d587047",
   "metadata": {},
   "outputs": [
    {
     "name": "stdout",
     "output_type": "stream",
     "text": [
      "{'a': 1, 'b': 45, 'c': 34}\n"
     ]
    }
   ],
   "source": [
    "print(a)"
   ]
  },
  {
   "cell_type": "code",
   "execution_count": 133,
   "id": "f1e65a39",
   "metadata": {},
   "outputs": [
    {
     "data": {
      "text/plain": [
       "['__add__',\n",
       " '__class__',\n",
       " '__contains__',\n",
       " '__delattr__',\n",
       " '__delitem__',\n",
       " '__dir__',\n",
       " '__doc__',\n",
       " '__eq__',\n",
       " '__format__',\n",
       " '__ge__',\n",
       " '__getattribute__',\n",
       " '__getitem__',\n",
       " '__gt__',\n",
       " '__hash__',\n",
       " '__iadd__',\n",
       " '__imul__',\n",
       " '__init__',\n",
       " '__init_subclass__',\n",
       " '__iter__',\n",
       " '__le__',\n",
       " '__len__',\n",
       " '__lt__',\n",
       " '__mul__',\n",
       " '__ne__',\n",
       " '__new__',\n",
       " '__reduce__',\n",
       " '__reduce_ex__',\n",
       " '__repr__',\n",
       " '__reversed__',\n",
       " '__rmul__',\n",
       " '__setattr__',\n",
       " '__setitem__',\n",
       " '__sizeof__',\n",
       " '__str__',\n",
       " '__subclasshook__',\n",
       " 'append',\n",
       " 'clear',\n",
       " 'copy',\n",
       " 'count',\n",
       " 'extend',\n",
       " 'index',\n",
       " 'insert',\n",
       " 'pop',\n",
       " 'remove',\n",
       " 'reverse',\n",
       " 'sort']"
      ]
     },
     "execution_count": 133,
     "metadata": {},
     "output_type": "execute_result"
    }
   ],
   "source": [
    "dir(list)"
   ]
  },
  {
   "cell_type": "code",
   "execution_count": 134,
   "id": "09ee8d4f",
   "metadata": {},
   "outputs": [
    {
     "name": "stdout",
     "output_type": "stream",
     "text": [
      "Help on built-in function append:\n",
      "\n",
      "append(object, /) method of builtins.list instance\n",
      "    Append object to the end of the list.\n",
      "\n"
     ]
    }
   ],
   "source": [
    "help(list.append)"
   ]
  },
  {
   "cell_type": "code",
   "execution_count": 135,
   "id": "9f739c24",
   "metadata": {},
   "outputs": [],
   "source": [
    "list1=[1,2,4,5,6,7]\n",
    "list1.append(10)"
   ]
  },
  {
   "cell_type": "code",
   "execution_count": 136,
   "id": "fd159ead",
   "metadata": {},
   "outputs": [
    {
     "name": "stdout",
     "output_type": "stream",
     "text": [
      "[1, 2, 4, 5, 6, 7, 10]\n"
     ]
    }
   ],
   "source": [
    "print(list1)"
   ]
  },
  {
   "cell_type": "code",
   "execution_count": 137,
   "id": "cc448cea",
   "metadata": {},
   "outputs": [
    {
     "name": "stdout",
     "output_type": "stream",
     "text": [
      "Help on built-in function clear:\n",
      "\n",
      "clear() method of builtins.list instance\n",
      "    Remove all items from list.\n",
      "\n"
     ]
    }
   ],
   "source": [
    "help(list.clear)"
   ]
  },
  {
   "cell_type": "code",
   "execution_count": 138,
   "id": "1fb1ec29",
   "metadata": {},
   "outputs": [],
   "source": [
    "list1.clear()"
   ]
  },
  {
   "cell_type": "code",
   "execution_count": 139,
   "id": "277ac3ff",
   "metadata": {},
   "outputs": [
    {
     "data": {
      "text/plain": [
       "[]"
      ]
     },
     "execution_count": 139,
     "metadata": {},
     "output_type": "execute_result"
    }
   ],
   "source": [
    "list1"
   ]
  },
  {
   "cell_type": "code",
   "execution_count": 141,
   "id": "93c74d44",
   "metadata": {},
   "outputs": [],
   "source": [
    "list1.append(12)"
   ]
  },
  {
   "cell_type": "code",
   "execution_count": 142,
   "id": "46414a44",
   "metadata": {},
   "outputs": [
    {
     "data": {
      "text/plain": [
       "[12]"
      ]
     },
     "execution_count": 142,
     "metadata": {},
     "output_type": "execute_result"
    }
   ],
   "source": [
    "list1"
   ]
  },
  {
   "cell_type": "code",
   "execution_count": 143,
   "id": "d941c2de",
   "metadata": {},
   "outputs": [
    {
     "name": "stdout",
     "output_type": "stream",
     "text": [
      "Help on built-in function index:\n",
      "\n",
      "index(value, start=0, stop=9223372036854775807, /) method of builtins.list instance\n",
      "    Return first index of value.\n",
      "    \n",
      "    Raises ValueError if the value is not present.\n",
      "\n"
     ]
    }
   ],
   "source": [
    "help(list.index)"
   ]
  },
  {
   "cell_type": "code",
   "execution_count": 149,
   "id": "e40d43da",
   "metadata": {},
   "outputs": [
    {
     "data": {
      "text/plain": [
       "0"
      ]
     },
     "execution_count": 149,
     "metadata": {},
     "output_type": "execute_result"
    }
   ],
   "source": [
    "list1=[1,2,3,4,5,6]\n",
    "list1.index(1)"
   ]
  },
  {
   "cell_type": "code",
   "execution_count": 150,
   "id": "b67360bc",
   "metadata": {},
   "outputs": [
    {
     "data": {
      "text/plain": [
       "4"
      ]
     },
     "execution_count": 150,
     "metadata": {},
     "output_type": "execute_result"
    }
   ],
   "source": [
    "list1.__getitem__(3)"
   ]
  },
  {
   "cell_type": "code",
   "execution_count": 151,
   "id": "d0fa5e03",
   "metadata": {},
   "outputs": [
    {
     "data": {
      "text/plain": [
       "1"
      ]
     },
     "execution_count": 151,
     "metadata": {},
     "output_type": "execute_result"
    }
   ],
   "source": [
    "list1[0]"
   ]
  },
  {
   "cell_type": "code",
   "execution_count": 152,
   "id": "98165a89",
   "metadata": {},
   "outputs": [
    {
     "data": {
      "text/plain": [
       "2"
      ]
     },
     "execution_count": 152,
     "metadata": {},
     "output_type": "execute_result"
    }
   ],
   "source": [
    "list1[1]"
   ]
  },
  {
   "cell_type": "code",
   "execution_count": 153,
   "id": "68382fb3",
   "metadata": {},
   "outputs": [],
   "source": [
    "marks=[90,91,80,88,98,45,56,67,78]"
   ]
  },
  {
   "cell_type": "code",
   "execution_count": 154,
   "id": "d152b7ba",
   "metadata": {},
   "outputs": [
    {
     "data": {
      "text/plain": [
       "8"
      ]
     },
     "execution_count": 154,
     "metadata": {},
     "output_type": "execute_result"
    }
   ],
   "source": [
    "marks.index(78)"
   ]
  },
  {
   "cell_type": "code",
   "execution_count": 155,
   "id": "936506e9",
   "metadata": {},
   "outputs": [
    {
     "data": {
      "text/plain": [
       "78"
      ]
     },
     "execution_count": 155,
     "metadata": {},
     "output_type": "execute_result"
    }
   ],
   "source": [
    "marks[8]"
   ]
  },
  {
   "cell_type": "code",
   "execution_count": 156,
   "id": "63954369",
   "metadata": {},
   "outputs": [
    {
     "data": {
      "text/plain": [
       "[80, 88, 98]"
      ]
     },
     "execution_count": 156,
     "metadata": {},
     "output_type": "execute_result"
    }
   ],
   "source": [
    "marks[2:5]"
   ]
  },
  {
   "cell_type": "code",
   "execution_count": 157,
   "id": "c82b0fb4",
   "metadata": {},
   "outputs": [
    {
     "data": {
      "text/plain": [
       "[90, 91, 80, 88, 98, 45, 56]"
      ]
     },
     "execution_count": 157,
     "metadata": {},
     "output_type": "execute_result"
    }
   ],
   "source": [
    "marks[:7]"
   ]
  },
  {
   "cell_type": "code",
   "execution_count": 158,
   "id": "b8152153",
   "metadata": {},
   "outputs": [
    {
     "data": {
      "text/plain": [
       "[88, 98, 45, 56, 67, 78]"
      ]
     },
     "execution_count": 158,
     "metadata": {},
     "output_type": "execute_result"
    }
   ],
   "source": [
    "marks[3:]"
   ]
  },
  {
   "cell_type": "code",
   "execution_count": 161,
   "id": "319a241b",
   "metadata": {},
   "outputs": [
    {
     "data": {
      "text/plain": [
       "[80, 88, 98, 45, 56, 67, 78]"
      ]
     },
     "execution_count": 161,
     "metadata": {},
     "output_type": "execute_result"
    }
   ],
   "source": [
    "marks[2::]"
   ]
  },
  {
   "cell_type": "code",
   "execution_count": 162,
   "id": "b461334c",
   "metadata": {},
   "outputs": [
    {
     "data": {
      "text/plain": [
       "[80, 88, 98, 45, 56, 67, 78]"
      ]
     },
     "execution_count": 162,
     "metadata": {},
     "output_type": "execute_result"
    }
   ],
   "source": [
    "marks[2:]"
   ]
  },
  {
   "cell_type": "code",
   "execution_count": 163,
   "id": "c4e21de1",
   "metadata": {},
   "outputs": [
    {
     "data": {
      "text/plain": [
       "78"
      ]
     },
     "execution_count": 163,
     "metadata": {},
     "output_type": "execute_result"
    }
   ],
   "source": [
    "marks[-1]"
   ]
  },
  {
   "cell_type": "code",
   "execution_count": 164,
   "id": "65874934",
   "metadata": {},
   "outputs": [
    {
     "data": {
      "text/plain": [
       "[90, 91, 80, 88, 98, 45, 56, 67, 78]"
      ]
     },
     "execution_count": 164,
     "metadata": {},
     "output_type": "execute_result"
    }
   ],
   "source": [
    "marks"
   ]
  },
  {
   "cell_type": "code",
   "execution_count": 175,
   "id": "e6a2902e",
   "metadata": {},
   "outputs": [
    {
     "data": {
      "text/plain": [
       "[80, 88, 98, 45, 56, 67, 78]"
      ]
     },
     "execution_count": 175,
     "metadata": {},
     "output_type": "execute_result"
    }
   ],
   "source": [
    "marks[2::]\n"
   ]
  },
  {
   "cell_type": "code",
   "execution_count": 167,
   "id": "aaf287f8",
   "metadata": {},
   "outputs": [
    {
     "data": {
      "text/plain": [
       "[80, 78]"
      ]
     },
     "execution_count": 167,
     "metadata": {},
     "output_type": "execute_result"
    }
   ],
   "source": [
    "marks[2::6]"
   ]
  },
  {
   "cell_type": "code",
   "execution_count": 168,
   "id": "4703bfdc",
   "metadata": {},
   "outputs": [
    {
     "data": {
      "text/plain": [
       "[90, 91, 80, 88, 98, 45, 56]"
      ]
     },
     "execution_count": 168,
     "metadata": {},
     "output_type": "execute_result"
    }
   ],
   "source": [
    "marks[:-2]"
   ]
  },
  {
   "cell_type": "code",
   "execution_count": 169,
   "id": "54dc50e6",
   "metadata": {},
   "outputs": [
    {
     "data": {
      "text/plain": [
       "[45, 56]"
      ]
     },
     "execution_count": 169,
     "metadata": {},
     "output_type": "execute_result"
    }
   ],
   "source": [
    "marks[-4:-2]"
   ]
  },
  {
   "cell_type": "code",
   "execution_count": 177,
   "id": "2a612ae6",
   "metadata": {},
   "outputs": [
    {
     "data": {
      "text/plain": [
       "[56, 67, 78]"
      ]
     },
     "execution_count": 177,
     "metadata": {},
     "output_type": "execute_result"
    }
   ],
   "source": [
    "marks[-3::]"
   ]
  },
  {
   "cell_type": "code",
   "execution_count": 178,
   "id": "bda608e6",
   "metadata": {},
   "outputs": [
    {
     "data": {
      "text/plain": [
       "[90, 91, 80, 88, 98]"
      ]
     },
     "execution_count": 178,
     "metadata": {},
     "output_type": "execute_result"
    }
   ],
   "source": [
    "marks[:-4]"
   ]
  },
  {
   "cell_type": "code",
   "execution_count": 179,
   "id": "b112fdd7",
   "metadata": {},
   "outputs": [
    {
     "data": {
      "text/plain": [
       "[90, 91, 80, 88, 98, 45, 56, 67, 78]"
      ]
     },
     "execution_count": 179,
     "metadata": {},
     "output_type": "execute_result"
    }
   ],
   "source": [
    "marks"
   ]
  },
  {
   "cell_type": "code",
   "execution_count": 180,
   "id": "a364db2b",
   "metadata": {},
   "outputs": [
    {
     "data": {
      "text/plain": [
       "[90, 91, 80, 88, 98]"
      ]
     },
     "execution_count": 180,
     "metadata": {},
     "output_type": "execute_result"
    }
   ],
   "source": [
    "marks[:-4]"
   ]
  },
  {
   "cell_type": "code",
   "execution_count": 182,
   "id": "4aafe83b",
   "metadata": {},
   "outputs": [
    {
     "data": {
      "text/plain": [
       "[90, 91, 80, 88]"
      ]
     },
     "execution_count": 182,
     "metadata": {},
     "output_type": "execute_result"
    }
   ],
   "source": [
    "marks[:4]"
   ]
  },
  {
   "cell_type": "code",
   "execution_count": 183,
   "id": "0097171e",
   "metadata": {},
   "outputs": [],
   "source": [
    "# indexing property of strings"
   ]
  },
  {
   "cell_type": "code",
   "execution_count": 184,
   "id": "ed284c37",
   "metadata": {},
   "outputs": [],
   "source": [
    "hello=['name',123,124]"
   ]
  },
  {
   "cell_type": "code",
   "execution_count": 185,
   "id": "60f5174f",
   "metadata": {},
   "outputs": [],
   "source": [
    "# Strings have the same property of list"
   ]
  },
  {
   "cell_type": "code",
   "execution_count": 186,
   "id": "b55a9c68",
   "metadata": {},
   "outputs": [],
   "source": [
    "a='Marathon'"
   ]
  },
  {
   "cell_type": "code",
   "execution_count": 188,
   "id": "e9b862ad",
   "metadata": {},
   "outputs": [
    {
     "data": {
      "text/plain": [
       "4"
      ]
     },
     "execution_count": 188,
     "metadata": {},
     "output_type": "execute_result"
    }
   ],
   "source": [
    "a.index('t')"
   ]
  },
  {
   "cell_type": "code",
   "execution_count": 189,
   "id": "fc6ebf43",
   "metadata": {},
   "outputs": [
    {
     "data": {
      "text/plain": [
       "'M'"
      ]
     },
     "execution_count": 189,
     "metadata": {},
     "output_type": "execute_result"
    }
   ],
   "source": [
    "a[0]"
   ]
  },
  {
   "cell_type": "code",
   "execution_count": 190,
   "id": "5e6e24e3",
   "metadata": {},
   "outputs": [],
   "source": [
    "# Using indexing with Dictionaries"
   ]
  },
  {
   "cell_type": "code",
   "execution_count": 191,
   "id": "313ac81e",
   "metadata": {},
   "outputs": [],
   "source": [
    "grades={'bharathi':70,'Nidhisha':90,'Misheeta':100}"
   ]
  },
  {
   "cell_type": "code",
   "execution_count": 192,
   "id": "48657b66",
   "metadata": {},
   "outputs": [
    {
     "data": {
      "text/plain": [
       "dict_keys(['bharathi', 'Nidhisha', 'Misheeta'])"
      ]
     },
     "execution_count": 192,
     "metadata": {},
     "output_type": "execute_result"
    }
   ],
   "source": [
    "grades.keys()"
   ]
  },
  {
   "cell_type": "code",
   "execution_count": 193,
   "id": "279a95d3",
   "metadata": {},
   "outputs": [
    {
     "data": {
      "text/plain": [
       "dict_values([70, 90, 100])"
      ]
     },
     "execution_count": 193,
     "metadata": {},
     "output_type": "execute_result"
    }
   ],
   "source": [
    "grades.values()"
   ]
  },
  {
   "cell_type": "code",
   "execution_count": 194,
   "id": "6e8177e9",
   "metadata": {},
   "outputs": [
    {
     "data": {
      "text/plain": [
       "90"
      ]
     },
     "execution_count": 194,
     "metadata": {},
     "output_type": "execute_result"
    }
   ],
   "source": [
    "grades[\"Nidhisha\"]"
   ]
  },
  {
   "cell_type": "code",
   "execution_count": 195,
   "id": "fe7a700a",
   "metadata": {},
   "outputs": [],
   "source": [
    "translator_eng_hindi={\"Mango\":'aam',\"Water\":\"Paanee\"}"
   ]
  },
  {
   "cell_type": "code",
   "execution_count": 202,
   "id": "22dfc26b",
   "metadata": {},
   "outputs": [
    {
     "data": {
      "text/plain": [
       "'aam'"
      ]
     },
     "execution_count": 202,
     "metadata": {},
     "output_type": "execute_result"
    }
   ],
   "source": [
    "translator_eng_hindi[\"Mango\"]"
   ]
  },
  {
   "cell_type": "code",
   "execution_count": 203,
   "id": "cada49ae",
   "metadata": {},
   "outputs": [],
   "source": [
    "## how to write a function"
   ]
  },
  {
   "cell_type": "code",
   "execution_count": 205,
   "id": "cd4ac297",
   "metadata": {},
   "outputs": [
    {
     "data": {
      "text/plain": [
       "[1, 2, 3, 4, 5, 6]"
      ]
     },
     "execution_count": 205,
     "metadata": {},
     "output_type": "execute_result"
    }
   ],
   "source": [
    "list1"
   ]
  },
  {
   "cell_type": "code",
   "execution_count": 228,
   "id": "2d6e2109",
   "metadata": {},
   "outputs": [],
   "source": [
    "def myaverage(aveg):\n",
    "    ave=sum(list1)/len(list1)\n",
    "    return ave"
   ]
  },
  {
   "cell_type": "code",
   "execution_count": 227,
   "id": "fb406bfe",
   "metadata": {},
   "outputs": [
    {
     "name": "stdout",
     "output_type": "stream",
     "text": [
      "3.5\n"
     ]
    }
   ],
   "source": [
    "a=myaverage(grades)\n",
    "print(a)"
   ]
  },
  {
   "cell_type": "code",
   "execution_count": 211,
   "id": "2c71af38",
   "metadata": {},
   "outputs": [],
   "source": [
    "# functions return statement"
   ]
  },
  {
   "cell_type": "code",
   "execution_count": 220,
   "id": "018b4e4b",
   "metadata": {},
   "outputs": [],
   "source": [
    "# Replacing list with dictionaries"
   ]
  },
  {
   "cell_type": "code",
   "execution_count": 221,
   "id": "8040233e",
   "metadata": {},
   "outputs": [
    {
     "data": {
      "text/plain": [
       "{'bharathi': 70, 'Nidhisha': 90, 'Misheeta': 100}"
      ]
     },
     "execution_count": 221,
     "metadata": {},
     "output_type": "execute_result"
    }
   ],
   "source": [
    "grades"
   ]
  },
  {
   "cell_type": "code",
   "execution_count": 233,
   "id": "aea0a02e",
   "metadata": {},
   "outputs": [],
   "source": [
    "def myaverage(aveg):\n",
    "    ave=sum(list1)/len(list1)\n",
    "    return ave"
   ]
  },
  {
   "cell_type": "code",
   "execution_count": 235,
   "id": "d76016df",
   "metadata": {},
   "outputs": [
    {
     "name": "stdout",
     "output_type": "stream",
     "text": [
      "3.5\n"
     ]
    }
   ],
   "source": [
    "print(myaverage(grades.values()))"
   ]
  },
  {
   "cell_type": "code",
   "execution_count": 236,
   "id": "f29629e9",
   "metadata": {},
   "outputs": [],
   "source": [
    "# introducing if statement"
   ]
  },
  {
   "cell_type": "code",
   "execution_count": 240,
   "id": "8b8b0d30",
   "metadata": {},
   "outputs": [
    {
     "data": {
      "text/plain": [
       "3"
      ]
     },
     "execution_count": 240,
     "metadata": {},
     "output_type": "execute_result"
    }
   ],
   "source": [
    "len(grades.values())"
   ]
  },
  {
   "cell_type": "code",
   "execution_count": 238,
   "id": "5d2b56bd",
   "metadata": {},
   "outputs": [
    {
     "data": {
      "text/plain": [
       "[1, 2, 3, 4, 5, 6]"
      ]
     },
     "execution_count": 238,
     "metadata": {},
     "output_type": "execute_result"
    }
   ],
   "source": [
    "list1"
   ]
  },
  {
   "cell_type": "code",
   "execution_count": 252,
   "id": "0af3cedf",
   "metadata": {},
   "outputs": [],
   "source": [
    "def myaverage(value):\n",
    "    if isinstance(value,dict):\n",
    "        ave=sum(value.values())/len(value)\n",
    "        return ave\n",
    "    else:\n",
    "        ave=sum(value)/len(value)\n",
    "        return ave"
   ]
  },
  {
   "cell_type": "code",
   "execution_count": 254,
   "id": "05568bb1",
   "metadata": {},
   "outputs": [
    {
     "name": "stdout",
     "output_type": "stream",
     "text": [
      "3.5\n"
     ]
    }
   ],
   "source": [
    "print(myaverage(list1))"
   ]
  },
  {
   "cell_type": "code",
   "execution_count": 251,
   "id": "1efad783",
   "metadata": {},
   "outputs": [],
   "source": [
    "# the is instance function"
   ]
  },
  {
   "cell_type": "code",
   "execution_count": 256,
   "id": "c46716e7",
   "metadata": {},
   "outputs": [
    {
     "name": "stdout",
     "output_type": "stream",
     "text": [
      "greater\n"
     ]
    }
   ],
   "source": [
    "if 3>1:\n",
    "    print(\"greater\")\n",
    "else:\n",
    "        print(\"small\")"
   ]
  },
  {
   "cell_type": "code",
   "execution_count": 258,
   "id": "e1efab10",
   "metadata": {},
   "outputs": [
    {
     "name": "stdout",
     "output_type": "stream",
     "text": [
      "greater\n"
     ]
    }
   ],
   "source": [
    "if True:\n",
    "    print(\"greater\")"
   ]
  },
  {
   "cell_type": "code",
   "execution_count": 259,
   "id": "cbcbbae0",
   "metadata": {},
   "outputs": [],
   "source": [
    "# if Else statement"
   ]
  },
  {
   "cell_type": "code",
   "execution_count": 265,
   "id": "bdada30b",
   "metadata": {},
   "outputs": [
    {
     "name": "stdout",
     "output_type": "stream",
     "text": [
      "greater\n"
     ]
    }
   ],
   "source": [
    "if 3>1:\n",
    "    print(\"greater\")\n",
    "elif 3==1:\n",
    "    print(\"equal\")\n",
    "else:\n",
    "    print(\"small\")"
   ]
  },
  {
   "cell_type": "code",
   "execution_count": 266,
   "id": "2401c064",
   "metadata": {},
   "outputs": [],
   "source": [
    "# User Inputs"
   ]
  },
  {
   "cell_type": "code",
   "execution_count": 286,
   "id": "6895596c",
   "metadata": {},
   "outputs": [],
   "source": [
    "def estimator(number):\n",
    "    if number >5:\n",
    "        return (\"greater\")\n",
    "    elif number <5:\n",
    "        return (\"smaller\")\n",
    "    else:\n",
    "        return (\"equal\")\n",
    "        "
   ]
  },
  {
   "cell_type": "code",
   "execution_count": 290,
   "id": "b0234f9b",
   "metadata": {},
   "outputs": [
    {
     "name": "stdout",
     "output_type": "stream",
     "text": [
      "Enter the number:40\n",
      "greater\n",
      "<class 'float'>\n"
     ]
    }
   ],
   "source": [
    "a=float(input(\"Enter the number:\"))\n",
    "print(estimator(a))\n",
    "print(type(a))"
   ]
  },
  {
   "cell_type": "code",
   "execution_count": 282,
   "id": "c2484809",
   "metadata": {},
   "outputs": [],
   "source": [
    "#User inputs 2"
   ]
  },
  {
   "cell_type": "code",
   "execution_count": 293,
   "id": "9e0f25e0",
   "metadata": {},
   "outputs": [
    {
     "name": "stdout",
     "output_type": "stream",
     "text": [
      "T.u.t.o.r.i.a.l.s.P.o.i.n.t.i.s.b.e.s.t."
     ]
    }
   ],
   "source": [
    "string = \"Tutorials Point is best\"\n",
    "for i in ''.join(string.split()):\n",
    "   print(i, end= \".\")\n"
   ]
  },
  {
   "cell_type": "code",
   "execution_count": 294,
   "id": "f0433a1c",
   "metadata": {},
   "outputs": [
    {
     "data": {
      "text/plain": [
       "True"
      ]
     },
     "execution_count": 294,
     "metadata": {},
     "output_type": "execute_result"
    }
   ],
   "source": [
    "import random\n",
    "a = random.randrange(4)\n",
    "b = random.choice(range(0, 3))\n",
    "a == b"
   ]
  },
  {
   "cell_type": "code",
   "execution_count": 295,
   "id": "79a03da4",
   "metadata": {},
   "outputs": [],
   "source": [
    "a = random.randrange(4)"
   ]
  },
  {
   "cell_type": "code",
   "execution_count": 296,
   "id": "b1125b59",
   "metadata": {},
   "outputs": [
    {
     "name": "stdout",
     "output_type": "stream",
     "text": [
      "1\n"
     ]
    }
   ],
   "source": [
    "print(a)"
   ]
  },
  {
   "cell_type": "code",
   "execution_count": 297,
   "id": "60ff1972",
   "metadata": {},
   "outputs": [],
   "source": [
    "b = random.choice(range(0, 3))"
   ]
  },
  {
   "cell_type": "code",
   "execution_count": 298,
   "id": "07b95634",
   "metadata": {},
   "outputs": [
    {
     "name": "stdout",
     "output_type": "stream",
     "text": [
      "1\n"
     ]
    }
   ],
   "source": [
    "print(b)"
   ]
  },
  {
   "cell_type": "code",
   "execution_count": null,
   "id": "77ded263",
   "metadata": {},
   "outputs": [],
   "source": [
    "\n",
    "import math\n",
    "math.copysign(2 ,-1)"
   ]
  },
  {
   "cell_type": "code",
   "execution_count": null,
   "id": "9a9310f5",
   "metadata": {},
   "outputs": [],
   "source": [
    "def total(initial = 5, *num, **key):\n",
    "   count = initial\n",
    "   for n in num:\n",
    "      count+=n\n",
    "   for k in key:\n",
    "      count+=key[k]\n",
    "   return count\n",
    "print(total(100,2,3, clouds=50, stars=100))"
   ]
  },
  {
   "cell_type": "code",
   "execution_count": null,
   "id": "6988e83c",
   "metadata": {},
   "outputs": [],
   "source": [
    "tinylist * 2 if tinylist = [123, 'john']"
   ]
  },
  {
   "cell_type": "code",
   "execution_count": null,
   "id": "6070d4e5",
   "metadata": {},
   "outputs": [],
   "source": []
  },
  {
   "cell_type": "code",
   "execution_count": null,
   "id": "3ae7068f",
   "metadata": {},
   "outputs": [],
   "source": []
  },
  {
   "cell_type": "code",
   "execution_count": null,
   "id": "f3bbef24",
   "metadata": {},
   "outputs": [],
   "source": []
  }
 ],
 "metadata": {
  "kernelspec": {
   "display_name": "Python 3",
   "language": "python",
   "name": "python3"
  },
  "language_info": {
   "codemirror_mode": {
    "name": "ipython",
    "version": 3
   },
   "file_extension": ".py",
   "mimetype": "text/x-python",
   "name": "python",
   "nbconvert_exporter": "python",
   "pygments_lexer": "ipython3",
   "version": "3.8.8"
  }
 },
 "nbformat": 4,
 "nbformat_minor": 5
}
